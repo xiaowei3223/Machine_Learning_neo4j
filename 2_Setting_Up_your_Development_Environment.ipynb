{
 "cells": [
  {
   "cell_type": "markdown",
   "metadata": {},
   "source": [
    "# About this module"
   ]
  },
  {
   "cell_type": "markdown",
   "metadata": {},
   "source": [
    "As a data scientist, you will create Neo4j Databases, add and update data in them, and query the data. When you learn to use Neo4j as a data scientist, you have two options the Neo4j Desktop or the Neo4j Sandbox. In this module you will learn how to setup the Neo4j Sandbox for use in the rest of the course, and connect to it from Jupyter notebooks hosted in Google Colabatory.\n",
    "\n",
    "作为数据科学家，您将创建Neo4j数据库，在其中添加和更新数据，并查询数据。当您作为数据科学家学习使用Neo4j时，您有两种选择:Neo4j桌面或Neo4j沙箱。在本模块中，您将学习如何设置Neo4j沙箱，以便在本课程的其余部分中使用，并从驻留在谷歌Colabatory中的Jupyter笔记本连接到它。"
   ]
  },
  {
   "cell_type": "markdown",
   "metadata": {},
   "source": [
    "In this module, you will:\n",
    "\n",
    "- Create a Neo4j Sandbox for learning Neo4j.\n",
    "- Connect to the Citations database with Neo4j Browser.\n",
    "- Launch a Jupyter Notebook in Google Colaboratory and connect to the Citations database.\n",
    "\n",
    "在本模块中，您将:\n",
    "    \n",
    "- 创建一个学习Neo4j的Neo4j沙箱。\n",
    "- 使用Neo4j浏览器连接到引用数据库。\n",
    "- 在谷歌协作实验室中启动一个木星笔记本，并连接到引文数据库。"
   ]
  },
  {
   "cell_type": "markdown",
   "metadata": {},
   "source": [
    "# Neo4j Sandbox"
   ]
  },
  {
   "cell_type": "markdown",
   "metadata": {},
   "source": [
    "The Neo4j sandbox is another way that you can begin development with Neo4j. It is a temporary, cloud-based instance of a Neo4j Server with its associated graph that you can access from any Web browser. The database in a Sandbox may be blank or it may be pre-populated. It is started automatically for you when you create the Sandbox.\n",
    "\n",
    "Neo4j沙箱是使用Neo4j开始开发的另一种方式。它是一个临时的基于云的Neo4j服务器实例，您可以从任何Web浏览器访问它的关联图。沙箱中的数据库可以是空的，也可以是预填充的。当您创建沙箱时，它会自动为您启动。"
   ]
  },
  {
   "cell_type": "markdown",
   "metadata": {},
   "source": [
    "By default, the Neo4j sandbox is available for three days, but you can extend it for up to 10 days. You must make sure that you extend your lease of the sandbox, otherwise you will lose your graph and any saved Cypher scripts you have created in the sandbox. However, you can use Neo4j Browser Sync to save Cypher scripts from your sandbox. The Sandbox is intended as a temporary environment or for learning about the features of Neo4j as well as specific graph use-cases.\n",
    "\n",
    "默认情况下，Neo4j沙箱可用三天，但您可以将其扩展到10天。您必须确保扩展了沙箱的租约，否则将丢失您在沙箱中创建的图形和任何保存的Cypher脚本。不过，您可以使用Neo4j浏览器同步将Cypher脚本从沙箱中保存下来。沙箱的目的是作为一个临时环境，或者学习Neo4j的特性以及特定的图形用例。"
   ]
  },
  {
   "cell_type": "markdown",
   "metadata": {},
   "source": [
    "# How to set up a Neo4j Sandbox"
   ]
  },
  {
   "cell_type": "markdown",
   "metadata": {},
   "source": [
    "This video shows you how to create a Neo4j Sandbox. If you have never used or created a Neo4j Sandbox before, you might find it helpful to watch this video before you create your Citations Sandbox for this course.\n",
    "\n",
    "本视频向您展示了如何创建一个Neo4j沙箱。如果您以前从未使用过或创建过Neo4j沙箱，您可能会发现在为本课程创建引用沙箱之前观看本视频是很有帮助的。"
   ]
  },
  {
   "cell_type": "markdown",
   "metadata": {},
   "source": [
    "<video  controls=\"\" id=\"CreatingNeo4jSandbox\" src=\"./images/Creating_a_Neo4j_Sandbox.MP4\" preload=\"no\" style=\"height:300px\" >\n",
    "</video>"
   ]
  },
  {
   "cell_type": "markdown",
   "metadata": {},
   "source": [
    "# Step 1: Create the Citations Sandbox"
   ]
  },
  {
   "cell_type": "markdown",
   "metadata": {},
   "source": [
    "1. Create a [Citations Sandbox](https://neo4j.com/sandbox-v2/citations/).\n",
    "2. Select Launch Sandbox button and then wait for it to start.\n",
    "\n",
    "The Sandbox has a Neo4j database with a pre-loaded Citations dataset.\n",
    "\n",
    "Note: You must create the Citations Sandbox with the above link and you must be signed in to the sandbox site. You cannot create it from the public Neo4j Sandbox site.\n",
    "\n",
    "1. 创建一个[Citations Sandbox](https://neo4j.com/sandbox-v2/citations/)。  **记住，要选择的是citations Sandbox**\n",
    "2. 选择Launch Sandbox按钮，然后等待它启动。  \n",
    "\n",
    "沙箱有一个Neo4j数据库，其中包含预加载的引用数据集。  \n",
    "**注意**:必须使用上面的链接创建引用沙箱，并且必须登录到沙箱站点。您不能从公共Neo4j沙箱站点创建它。  "
   ]
  },
  {
   "cell_type": "markdown",
   "metadata": {},
   "source": [
    "# Using Neo4j Browser"
   ]
  },
  {
   "cell_type": "markdown",
   "metadata": {},
   "source": [
    "Neo4j Browser is a tool that enables you to access a Neo4j Database by executing Cypher statements to create or update data in the graph and to query the graph to return data. The data returned is typically visualized as nodes and relationships in a graph, but can also be displayed as tables. In addition to executing Cypher statements, you can execute a number of system calls that are related to the database being accessed by the Browser. For example, you can retrieve the list of queries that are currently running in the server.\n",
    "\n",
    "Neo4j浏览器是一个工具，它允许您通过执行Cypher语句来访问Neo4j数据库，从而在图中创建或更新数据，并查询图以返回数据。返回的数据通常显示为图中的节点和关系，但也可以显示为表。除了执行Cypher语句外，还可以执行许多与浏览器访问的数据库相关的系统调用。例如，您可以检索当前在服务器中运行的查询列表。\n",
    "\n",
    "You can use Neo4j Browser functionality via the web interface.\n",
    "您可以通过web接口使用Neo4j浏览器功能。"
   ]
  },
  {
   "cell_type": "markdown",
   "metadata": {},
   "source": [
    "# Step 2: Connect to the Citations database with Neo4j Browser"
   ]
  },
  {
   "cell_type": "markdown",
   "metadata": {},
   "source": [
    "Open a Neo4j Browser connection to the Citations Sandbox by clicking the Launch Browser button in the Get Started tab for the Sandbox as shown here:\n",
    "\n",
    "单击Sandbox的Get Started选项卡中的Launch Browser按钮，打开到Citations Sandbox的Neo4j浏览器连接，如下所示:\n",
    "\n",
    "![OpenNeo4jBrowser.png](./images/OpenNeo4jBrowser.png)"
   ]
  },
  {
   "cell_type": "markdown",
   "metadata": {},
   "source": [
    "A new Web browser tab should open with a connection to the Citations Sandbox:\n",
    "    \n",
    "应该打开一个新的Web浏览器选项卡，并连接到Citations沙箱\n",
    "\n",
    "![Neo4jBrowser-DataScience.png](./images/Neo4jBrowser-DataScience.png)"
   ]
  },
  {
   "cell_type": "markdown",
   "metadata": {},
   "source": [
    "If you have never used Neo4j Browser before for a Sandbox, you might find the Guided Tour of the Sandbox helpful, otherwise, simply close it.\n",
    "\n",
    "如果您以前从未为沙箱使用过Neo4j浏览器，那么您可能会发现沙箱的向导非常有用，否则，只需关闭它。"
   ]
  },
  {
   "cell_type": "markdown",
   "metadata": {},
   "source": [
    "# Step 3: Open a Jupyter Notebook in Google Colaboratory and connect to the Citations database:\n",
    "\n",
    "            "
   ]
  },
  {
   "cell_type": "markdown",
   "metadata": {},
   "source": [
    "In this course you will use Jupyter Notebook hosted on the Google Colaboratory environment. All the notebooks in this course require a connection to your Neo4j Sandbox instance, so you will test that now.\n",
    "\n",
    "Launch the notebook by clicking below. This will open a tab for the Jupyter Notebook where you will set it up to connect to the Neo4j Sandbox.\n",
    "\n",
    "在本课程中，您将使用驻留在谷歌协作环境中的Jupyter笔记本。本课程中的所有笔记本都需要连接到Neo4j沙箱实例，所以现在您将对其进行测试。  \n",
    "点击下面启动笔记本。这将为Jupyter笔记本打开一个选项卡，您将把它设置为连接到Neo4j沙箱。"
   ]
  },
  {
   "cell_type": "markdown",
   "metadata": {},
   "source": [
    "[<button type=\"botton\" >Lunch Notebook </button>](Set_Environment_E.ipynb)"
   ]
  },
  {
   "cell_type": "markdown",
   "metadata": {},
   "source": [
    "# Summary"
   ]
  },
  {
   "cell_type": "markdown",
   "metadata": {},
   "source": [
    "You should now have set up your development environment by:\n",
    "\n",
    "- Creating a Neo4j Sandbox for learning Neo4j.\n",
    "- Connecting to the Citations database with Neo4j Browser.\n",
    "- Launching a Jupyter Notebook in Google Colaboratory and connecting to the Citations database.\n",
    "\n",
    "您现在应该通过以下方法设置开发环境:\n",
    "- 创建一个学习Neo4j的Neo4j沙箱。\n",
    "- 使用Neo4j浏览器连接到引用数据库。\n",
    "- 在谷歌合作实验室启动一个木星笔记本，并连接到引文数据库。"
   ]
  },
  {
   "cell_type": "code",
   "execution_count": null,
   "metadata": {},
   "outputs": [],
   "source": []
  }
 ],
 "metadata": {
  "kernelspec": {
   "display_name": "Python 3",
   "language": "python",
   "name": "python3"
  },
  "language_info": {
   "codemirror_mode": {
    "name": "ipython",
    "version": 3
   },
   "file_extension": ".py",
   "mimetype": "text/x-python",
   "name": "python",
   "nbconvert_exporter": "python",
   "pygments_lexer": "ipython3",
   "version": "3.7.3"
  },
  "toc": {
   "base_numbering": 1,
   "nav_menu": {},
   "number_sections": true,
   "sideBar": true,
   "skip_h1_title": false,
   "title_cell": "Table of Contents",
   "title_sidebar": "Contents",
   "toc_cell": false,
   "toc_position": {},
   "toc_section_display": true,
   "toc_window_display": false
  }
 },
 "nbformat": 4,
 "nbformat_minor": 2
}
