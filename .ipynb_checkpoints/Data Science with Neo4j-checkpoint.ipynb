{
 "cells": [
  {
   "cell_type": "markdown",
   "metadata": {},
   "source": [
    "# About this course"
   ]
  },
  {
   "cell_type": "markdown",
   "metadata": {},
   "source": [
    "This course introduces you to using Neo4j as part of your Data Science and Machine Learning workflows. We re going to learn how to do this with the help of [the aminer.org citation dataset](https://www.aminer.cn/citation). This dataset contains papers, authors, and citations from DBLP a computer science bibliography website.\n",
    "\n",
    "本课程将介绍如何使用Neo4j作为数据科学和机器学习工作流的一部分。我们将学习如何在aminer.org引文数据集的帮助下做到这一点。这个数据集包含了来自DBLP计算机科学书目网站的论文、作者和引文。"
   ]
  },
  {
   "cell_type": "markdown",
   "metadata": {},
   "source": [
    "This course is intended for data scientists and data analysts.\n",
    "\n",
    "本课程面向数据科学家和数据分析师。"
   ]
  },
  {
   "cell_type": "markdown",
   "metadata": {},
   "source": [
    "This self-paced training should take you three hours to complete if you perform all of the hands-on exercises in the course.\n",
    "\n",
    "如果你在课程中进行了所有的实践练习，那么这种自定进度的训练应该需要三个小时来完成。"
   ]
  },
  {
   "cell_type": "markdown",
   "metadata": {},
   "source": [
    "We have set up a discussion area in our Neo4j Community Site, if you run into problems in the course and need assistance. You should register on the community site where you can view other questions and answers for students taking our online training courses. The Neo4j Community Site is an excellent resource for answering many types of questions posed by other users of Neo4j.\n",
    "\n",
    "如果您在学习过程中遇到问题并需要帮助，我们在Neo4j社区站点上建立了一个讨论区。您应该在社区网站上注册，在那里您可以查看参加我们在线培训课程的学生的其他问题和答案。Neo4j社区站点是回答Neo4j的其他用户提出的许多类型问题的优秀资源。"
   ]
  },
  {
   "cell_type": "markdown",
   "metadata": {},
   "source": [
    "There are four modules in this course. Most modules have hands-on exercises you should complete and all modules have a set of review questions at the end. The hands-on exercises in this course can be completed in a Neo4j Sandbox or in Neo4j Desktop. We have provided an estimate of how long each module should take you to complete if you perform the hands-on exercises.\n",
    "\n",
    "本课程分为四个模块。大多数模块都有您应该完成的实践练习，并且所有模块在最后都有一组复习问题。本课程的实践练习可以在Neo4j沙箱或Neo4j桌面中完成。我们已经提供了一个估计，如果您执行动手练习，每个模块应该花多长时间来完成。"
   ]
  },
  {
   "cell_type": "markdown",
   "metadata": {},
   "source": [
    "# Setting Up Your Development Environment"
   ]
  },
  {
   "cell_type": "markdown",
   "metadata": {},
   "source": [
    "Set up your Neo4j Sandbox development environment for performing the hands-on exercises of this course  \n",
    "\n",
    "设置您的Neo4j沙箱开发环境来执行本课程的实践练习\n"
   ]
  },
  {
   "cell_type": "markdown",
   "metadata": {},
   "source": [
    "Set up your Google Colabatory environment for running Jupyter notebooks in this course\n",
    "\n",
    "设置您的谷歌的合作环境运行木星笔记本在本课程"
   ]
  },
  {
   "cell_type": "markdown",
   "metadata": {},
   "source": [
    "# Exploratory Data Analysis"
   ]
  },
  {
   "cell_type": "markdown",
   "metadata": {},
   "source": [
    "- Query a database for its schema \n",
    "- Return and chart the number of node labels and relationship types using matplotlib \n",
    "- Build and plot a histogram of papers and their citations using pandas and matplotlib\n",
    "\n",
    "\n",
    "- 查询数据库的模式返回，\n",
    "- 使用matplotlib构建节点标签和关系类型的数量，\n",
    "- 并使用panda和matplotlib绘制论文及其引用的直方图"
   ]
  },
  {
   "cell_type": "markdown",
   "metadata": {},
   "source": [
    "# Recommendations"
   ]
  },
  {
   "cell_type": "markdown",
   "metadata": {},
   "source": [
    "- find potential collaborators for an author\n",
    "- find relevant papers about a topic for an author"
   ]
  },
  {
   "cell_type": "markdown",
   "metadata": {},
   "source": [
    "# Predictions"
   ]
  },
  {
   "cell_type": "markdown",
   "metadata": {},
   "source": [
    "- Describe what link prediction is\n",
    "- Use the link prediction functions in Neo4j\n",
    "- Understand the challenges when building machine learning models on graph data\n",
    "- Build a link prediction classifier using scikit-learn with features derived from the Neo4j Graph Algorithms library\n",
    "\n",
    "\n",
    "- 描述什么是链接预测\n",
    "- 使用Neo4j中的链接预测函数\n",
    "- 理解在构建基于图数据的机器学习模型时所面临的挑战\n",
    "- 使用从Neo4j图形算法库派生的特性，使用scikit-learn构建链接预测分类器"
   ]
  },
  {
   "cell_type": "markdown",
   "metadata": {},
   "source": [
    "# Summary"
   ]
  },
  {
   "cell_type": "markdown",
   "metadata": {},
   "source": [
    "- Quiz results.\n",
    "- Resources to learn more.\n",
    "- Course feedback."
   ]
  },
  {
   "cell_type": "code",
   "execution_count": null,
   "metadata": {},
   "outputs": [],
   "source": []
  }
 ],
 "metadata": {
  "kernelspec": {
   "display_name": "Python 3",
   "language": "python",
   "name": "python3"
  },
  "language_info": {
   "codemirror_mode": {
    "name": "ipython",
    "version": 3
   },
   "file_extension": ".py",
   "mimetype": "text/x-python",
   "name": "python",
   "nbconvert_exporter": "python",
   "pygments_lexer": "ipython3",
   "version": "3.7.3"
  },
  "toc": {
   "base_numbering": 1,
   "nav_menu": {},
   "number_sections": true,
   "sideBar": true,
   "skip_h1_title": false,
   "title_cell": "Table of Contents",
   "title_sidebar": "Contents",
   "toc_cell": false,
   "toc_position": {},
   "toc_section_display": true,
   "toc_window_display": false
  }
 },
 "nbformat": 4,
 "nbformat_minor": 2
}
