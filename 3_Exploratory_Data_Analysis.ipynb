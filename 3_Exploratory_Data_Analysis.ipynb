{
 "cells": [
  {
   "cell_type": "markdown",
   "metadata": {},
   "source": [
    "# About this module"
   ]
  },
  {
   "cell_type": "markdown",
   "metadata": {},
   "source": [
    "In the previous section, we setup our Neo4j Sandbox environment containing the citation dataset. In this module we’re going to explore that data. We’ll be querying Neo4j and processing the results using tools in the Python ecosystem.\n",
    "\n",
    "At the end of this module, you should be able to:\n",
    "\n",
    "- Query a database for its schema.\n",
    "- Return and chart the number of node labels and relationship types using matplotlib.\n",
    "- Build and plot a histogram of papers and their citations using pandas and matplotlib.\n",
    "\n",
    "在上一节中，我们设置了包含引文数据集的Neo4j沙箱环境。在本模块中，我们将研究这些数据。我们将查询Neo4j并使用Python生态系统中的工具处理结果。\n",
    "在本单元结束时，您应该能够:\n",
    "\n",
    "- 查询数据库的模式。\n",
    "- 返回并使用matplotlib绘制节点标签和关系类型的数量。\n",
    "- 使用panda和matplotlib构建和绘制论文及其引用的柱状图。"
   ]
  },
  {
   "cell_type": "markdown",
   "metadata": {},
   "source": [
    "# Tools"
   ]
  },
  {
   "cell_type": "markdown",
   "metadata": {},
   "source": [
    "We ll be using the following Python libraries in this course:\n",
    "\n",
    "在本课程中，我们将使用以下Python库:\n",
    "\n",
    "\n",
    "## py2neo \n",
    "\n",
    "The [py2neo](https://py2neo.org/v4/) driver enables data scientists to easily integrate Neo4j with tools in the Python Data Science ecosystem. It does this by providing functions that translate the results of queries into data structures used by these tools. We ll be using this library to execute Cypher queries against Neo4j.\n",
    "\n",
    "py2neo驱动程序使数据科学家能够轻松地将Neo4j与Python数据科学生态系统中的工具集成在一起。它通过提供将查询结果转换为这些工具使用的数据结构的函数来实现这一点。我们将使用这个库对Neo4j执行Cypher查询。\n",
    "\n",
    "\n",
    "## pandas\n",
    "[pandas](https://pandas.pydata.org/) is an open source, BSD-licensed library providing high-performance, easy-to-use data structures and data analysis tools for the Python programming language. We’ll be using this library to do post processing of the data that we query from Neo4j.\n",
    "\n",
    "panda是一个开源的、bsd许可的库，为Python编程语言提供高性能、易于使用的数据结构和数据分析工具。我们将使用这个库对从Neo4j查询的数据进行后处理。\n",
    "\n",
    "## Matplotlib\n",
    "[Matplotlib](https://matplotlib.org/) is a Python 2D plotting library which produces publication quality figures in a variety of hardcopy formats and interactive environments across platforms. We’ll be using this library to create charts based on our data.\n",
    "\n",
    "Matplotlib是一个Python 2D绘图库，它以各种硬拷贝格式和跨平台的交互环境生成出版物质量数据。我们将使用这个库根据我们的数据创建图表。\n"
   ]
  },
  {
   "cell_type": "markdown",
   "metadata": {},
   "source": [
    "# Citation Dataset\n",
    "\n",
    "Now you are ready to start exploring the data. The graph model for the dataset is shown below:\n",
    "\n",
    "现在可以开始研究数据了。数据集的图形模型如下图所示:\n",
    "\n",
    "![graph.png](./images/graph.png)\n",
    "\n",
    "You want to better understand the data you will be working with, including the distribution of authors, papers, and citations. You will then be able to use this knowledge to help build a recommendation engine and make predictions on the data.\n",
    "\n",
    "您希望更好地理解将要使用的数据，包括作者、论文和引用的分布。然后，您将能够使用这些知识来帮助构建推荐引擎并对数据进行预测。"
   ]
  },
  {
   "cell_type": "markdown",
   "metadata": {},
   "source": [
    "# Exercise 1: Exploring the data"
   ]
  },
  {
   "cell_type": "markdown",
   "metadata": {},
   "source": [
    "In this course you use the Jupyter notebook you set up previously.\n",
    "\n",
    "Click the button below to launch the notebook and perform the steps for exploring the data. When you launch this notebook, you will enter the same credentials you entered when you tested your connection to the Neo4j Sandbox.\n",
    "\n",
    "在本课程中，您将使用您之前设置的木星笔记本。\n",
    "单击下面的按钮启动笔记本，并执行查看数据的步骤。当您启动这个笔记本时，您将输入与测试到Neo4j沙箱连接时输入的相同的凭证。\n",
    "\n",
    "[<button>Exercise</button>](Exploratory_Data_Analysis_EXERCISE.ipynb)"
   ]
  },
  {
   "cell_type": "code",
   "execution_count": null,
   "metadata": {},
   "outputs": [],
   "source": []
  }
 ],
 "metadata": {
  "kernelspec": {
   "display_name": "R",
   "language": "R",
   "name": "ir"
  },
  "language_info": {
   "codemirror_mode": "r",
   "file_extension": ".r",
   "mimetype": "text/x-r-source",
   "name": "R",
   "pygments_lexer": "r",
   "version": "3.6.1"
  },
  "toc": {
   "base_numbering": 1,
   "nav_menu": {},
   "number_sections": true,
   "sideBar": true,
   "skip_h1_title": false,
   "title_cell": "Table of Contents",
   "title_sidebar": "Contents",
   "toc_cell": false,
   "toc_position": {},
   "toc_section_display": true,
   "toc_window_display": false
  }
 },
 "nbformat": 4,
 "nbformat_minor": 2
}
