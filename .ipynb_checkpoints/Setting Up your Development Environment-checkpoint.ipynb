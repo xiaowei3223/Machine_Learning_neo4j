{
 "cells": [
  {
   "cell_type": "markdown",
   "metadata": {},
   "source": [
    "# About this module"
   ]
  },
  {
   "cell_type": "markdown",
   "metadata": {},
   "source": [
    "As a data scientist, you will create Neo4j Databases, add and update data in them, and query the data. When you learn to use Neo4j as a data scientist, you have two options the Neo4j Desktop or the Neo4j Sandbox. In this module you will learn how to setup the Neo4j Sandbox for use in the rest of the course, and connect to it from Jupyter notebooks hosted in Google Colabatory.\n",
    "\n",
    "作为数据科学家，您将创建Neo4j数据库，在其中添加和更新数据，并查询数据。当您作为数据科学家学习使用Neo4j时，您有两种选择:Neo4j桌面或Neo4j沙箱。在本模块中，您将学习如何设置Neo4j沙箱，以便在本课程的其余部分中使用，并从驻留在谷歌Colabatory中的Jupyter笔记本连接到它。"
   ]
  },
  {
   "cell_type": "markdown",
   "metadata": {},
   "source": [
    "In this module, you will:\n",
    "\n",
    "- Create a Neo4j Sandbox for learning Neo4j.\n",
    "- Connect to the Citations database with Neo4j Browser.\n",
    "- Launch a Jupyter Notebook in Google Colaboratory and connect to the Citations database.\n",
    "\n",
    "在本模块中，您将:\n",
    "    \n",
    "- 创建一个学习Neo4j的Neo4j沙箱。\n",
    "- 使用Neo4j浏览器连接到引用数据库。\n",
    "- 在谷歌协作实验室中启动一个木星笔记本，并连接到引文数据库。"
   ]
  },
  {
   "cell_type": "markdown",
   "metadata": {},
   "source": [
    "# Neo4j Sandbox"
   ]
  },
  {
   "cell_type": "markdown",
   "metadata": {},
   "source": [
    "The Neo4j sandbox is another way that you can begin development with Neo4j. It is a temporary, cloud-based instance of a Neo4j Server with its associated graph that you can access from any Web browser. The database in a Sandbox may be blank or it may be pre-populated. It is started automatically for you when you create the Sandbox.\n",
    "\n",
    "Neo4j沙箱是使用Neo4j开始开发的另一种方式。它是一个临时的基于云的Neo4j服务器实例，您可以从任何Web浏览器访问它的关联图。沙箱中的数据库可以是空的，也可以是预填充的。当您创建沙箱时，它会自动为您启动。"
   ]
  },
  {
   "cell_type": "markdown",
   "metadata": {},
   "source": [
    "By default, the Neo4j sandbox is available for three days, but you can extend it for up to 10 days. You must make sure that you extend your lease of the sandbox, otherwise you will lose your graph and any saved Cypher scripts you have created in the sandbox. However, you can use Neo4j Browser Sync to save Cypher scripts from your sandbox. The Sandbox is intended as a temporary environment or for learning about the features of Neo4j as well as specific graph use-cases.\n",
    "\n",
    "默认情况下，Neo4j沙箱可用三天，但您可以将其扩展到10天。您必须确保扩展了沙箱的租约，否则将丢失您在沙箱中创建的图形和任何保存的Cypher脚本。不过，您可以使用Neo4j浏览器同步将Cypher脚本从沙箱中保存下来。沙箱的目的是作为一个临时环境，或者学习Neo4j的特性以及特定的图形用例。"
   ]
  },
  {
   "cell_type": "markdown",
   "metadata": {},
   "source": [
    "# How to set up a Neo4j Sandbox"
   ]
  },
  {
   "cell_type": "markdown",
   "metadata": {},
   "source": [
    "This video shows you how to create a Neo4j Sandbox. If you have never used or created a Neo4j Sandbox before, you might find it helpful to watch this video before you create your Citations Sandbox for this course.\n",
    "\n",
    "本视频向您展示了如何创建一个Neo4j沙箱。如果您以前从未使用过或创建过Neo4j沙箱，您可能会发现在为本课程创建引用沙箱之前观看本视频是很有帮助的。"
   ]
  },
  {
   "cell_type": "markdown",
   "metadata": {},
   "source": [
    "<video  controls=\"\" id=\"CreatingNeo4jSandbox\" src=\"./images/Creating_a_Neo4j_Sandbox.MP4\" preload=\"no\" style=\"height:200px\" >\n",
    "</video>"
   ]
  },
  {
   "cell_type": "code",
   "execution_count": null,
   "metadata": {},
   "outputs": [],
   "source": []
  }
 ],
 "metadata": {
  "kernelspec": {
   "display_name": "Python 3",
   "language": "python",
   "name": "python3"
  },
  "language_info": {
   "codemirror_mode": {
    "name": "ipython",
    "version": 3
   },
   "file_extension": ".py",
   "mimetype": "text/x-python",
   "name": "python",
   "nbconvert_exporter": "python",
   "pygments_lexer": "ipython3",
   "version": "3.7.3"
  },
  "toc": {
   "base_numbering": 1,
   "nav_menu": {},
   "number_sections": true,
   "sideBar": true,
   "skip_h1_title": false,
   "title_cell": "Table of Contents",
   "title_sidebar": "Contents",
   "toc_cell": false,
   "toc_position": {},
   "toc_section_display": true,
   "toc_window_display": false
  }
 },
 "nbformat": 4,
 "nbformat_minor": 2
}
